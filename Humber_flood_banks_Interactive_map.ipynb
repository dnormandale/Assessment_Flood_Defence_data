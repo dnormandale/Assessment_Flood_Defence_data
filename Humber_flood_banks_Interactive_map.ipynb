{
 "cells": [
  {
   "cell_type": "markdown",
   "id": "fe9ad18b",
   "metadata": {},
   "source": [
    "# Create an interactive map displaying various Humber flood embankment data"
   ]
  },
  {
   "cell_type": "code",
   "execution_count": null,
   "id": "26fe214e",
   "metadata": {},
   "outputs": [],
   "source": [
    "# import necessary modules\n",
    "import pandas as pd\n",
    "import geopandas as gpd\n",
    "import folium"
   ]
  },
  {
   "cell_type": "code",
   "execution_count": null,
   "id": "d4b61f6a",
   "metadata": {},
   "outputs": [],
   "source": [
    "# The Flood Areas shapefile will provide the multi-polygon shape on which all other data will be spatially located;\n",
    "# note that this and subsequent shapefiles are loaded using Geopandas, which associates each with a GeoDataFrame;\n",
    "# GeoDataFrame - tabular data structure, adds 'geometry' column to the shaoefile attribute table.\n",
    "areas = gpd.read_file('HSCR_Flood_Areas/HSCR_FloodAreas_2080406.shp')"
   ]
  },
  {
   "cell_type": "code",
   "execution_count": null,
   "id": "608eb672",
   "metadata": {},
   "outputs": [],
   "source": [
    "# # see a subset of the first 5 lines, the key column is UNIT and the multi-polygon will be visualised on this basis;\n",
    "# note the additional 'geometry' column, as this is a GeoDataFrame.\n",
    "areas.head()"
   ]
  },
  {
   "cell_type": "code",
   "execution_count": null,
   "id": "4e426ea5",
   "metadata": {},
   "outputs": [],
   "source": [
    "# To create an interactive leaflet map, use geopandas.GeoDataFrame.explore \n",
    "# for more info see https://geopandas.org/en/stable/docs/reference/api/geopandas.GeoDataFrame.explore.html\n",
    "# Using UNIT column to visualise the multi-polygon; colour is chosen from matpoltlib's Qualitative colormaps selection\n",
    "# for more info see https://matplotlib.org/stable/tutorials/colors/colormaps.html\n",
    "m = areas.explore('UNIT', cmap='Accent')"
   ]
  },
  {
   "cell_type": "code",
   "execution_count": null,
   "id": "ea499243",
   "metadata": {},
   "outputs": [],
   "source": [
    "# open flood embankment network polylines shapefile; contains all the earth flood defence embankments around the Humber\n",
    "defences = gpd.read_file('Flood_embankment_network/Embankment_alignment_Humber_primary.shp')"
   ]
  },
  {
   "cell_type": "code",
   "execution_count": null,
   "id": "ecd50a5c",
   "metadata": {},
   "outputs": [],
   "source": [
    "# open a sub-set of the data, 'Type' is the column with witch the data will be added to map.\n",
    "defences.head()"
   ]
  },
  {
   "cell_type": "code",
   "execution_count": null,
   "id": "25070b3e",
   "metadata": {},
   "outputs": [],
   "source": [
    "# add the defence shapefile to the map; note: basemap is OpenStreetMap.\n",
    "defences.explore( 'Type',\n",
    "                 m=m, # adds markers to map\n",
    "                 marker_type='marker', # specify type of marker\n",
    "                 popup=True, # enter true or false based on preference for popup on map\n",
    "                 legend=True, # enter true or false based on preference for inclusion of separate legend\n",
    "                 legend_kwds={'caption': 'Flood Defence Embankments'}, # set the caption wording\n",
    "                 cmap='Dark2' # set the colour \n",
    "                )\n",
    "\n"
   ]
  },
  {
   "cell_type": "code",
   "execution_count": null,
   "id": "a694eb82",
   "metadata": {},
   "outputs": [],
   "source": [
    "# open low sections polyline shapefile; contains LIDAR-derived data of where flood embankments are lower in height\n",
    "# than adjacent sections and could present a flood risk from overtopping during storm events when water levels are high.\n",
    "Low_sections = gpd.read_file('LIDAR_derived_data/Embankment_low_sections_defects.shp')"
   ]
  },
  {
   "cell_type": "code",
   "execution_count": null,
   "id": "843eeb4b",
   "metadata": {},
   "outputs": [],
   "source": [
    "# open subset of data, key column is 'Type'\n",
    "Low_sections.head()"
   ]
  },
  {
   "cell_type": "code",
   "execution_count": null,
   "id": "78341234",
   "metadata": {},
   "outputs": [],
   "source": [
    "# add the low sections to the existing map\n",
    "Low_sections.explore( 'Type',\n",
    "                    m=m,  \n",
    "                 marker_type='marker',\n",
    "                 popup=True, \n",
    "                 legend=True,\n",
    "                 legend_kwds={'caption': 'Low sections'},\n",
    "                 cmap='Set1'\n",
    "                )"
   ]
  },
  {
   "cell_type": "code",
   "execution_count": null,
   "id": "f92a04af",
   "metadata": {},
   "outputs": [],
   "source": [
    "# open steep slopes polygon shapefile; contains LIDAR-derived data of where flood embankments slopes, either front (facing the water) or rear (facing the land),\n",
    "# are steeper than the standard angle of repose and could theoretically affect the long-term stability of the embankments\n",
    "Steep_slopes = gpd.read_file('LIDAR_derived_data/Embankment_steep_slope_anomalies.shp')"
   ]
  },
  {
   "cell_type": "code",
   "execution_count": null,
   "id": "14ea13f5",
   "metadata": {},
   "outputs": [],
   "source": [
    "# open subset of data, key column is 'Face'\n",
    "Steep_slopes.head()"
   ]
  },
  {
   "cell_type": "code",
   "execution_count": null,
   "id": "b1f32723",
   "metadata": {},
   "outputs": [],
   "source": [
    "# add steep slopes to the map\n",
    "Steep_slopes.explore( 'Face',\n",
    "                 m=m, # \n",
    "                 marker_type='marker', \n",
    "                 popup=True, \n",
    "                 legend=True, \n",
    "                 legend_kwds={'caption': 'Steep slopes'},\n",
    "                 cmap='tab20b'\n",
    "                )"
   ]
  },
  {
   "cell_type": "code",
   "execution_count": null,
   "id": "cefaaa3b",
   "metadata": {},
   "outputs": [],
   "source": [
    "# open palaeochannels point data shapefile; contains LIDAR-derived data of where infilled former channels, either natural \n",
    "# or engineered are situated directly below earth embankments and may theoretically affect the structural stability.\n",
    "Palaeochannels = gpd.read_file('LIDAR_derived_data/Palaeochannel_anomalies_intersect_embank.shp')"
   ]
  },
  {
   "cell_type": "code",
   "execution_count": null,
   "id": "7569274b",
   "metadata": {},
   "outputs": [],
   "source": [
    "# open subset of data, key column is 'channel'\n",
    "Palaeochannels.head()"
   ]
  },
  {
   "cell_type": "code",
   "execution_count": null,
   "id": "eb8874e0",
   "metadata": {},
   "outputs": [],
   "source": [
    "Palaeochannels.explore( 'channel',  # note, marker type is omitted so that default circle is loaded\n",
    "                 m=m, \n",
    "                 popup=True,\n",
    "                 legend=True, \n",
    "                 legend_kwds={'caption': 'Palaeochannels'},\n",
    "                 cmap='tab10'\n",
    "                )"
   ]
  },
  {
   "cell_type": "code",
   "execution_count": null,
   "id": "b387e607",
   "metadata": {},
   "outputs": [],
   "source": [
    "# open geophysical survey polyline shapefile; contains interpreted data from DEMP (Dipole Electromagnetic Profiling)\n",
    "# as to the material composition of surveyed flood embankments, which provide geotechnical context to assessments.\n",
    "Geophysical_survey_embankment_materials = gpd.read_file('Geophysical_survey_data_material_composition/Geophysical_survey_embankment_materials.shp')"
   ]
  },
  {
   "cell_type": "code",
   "execution_count": null,
   "id": "610a36ac",
   "metadata": {},
   "outputs": [],
   "source": [
    "# open subset of data, the key column is 'Material'\n",
    "Geophysical_survey_embankment_materials.head()"
   ]
  },
  {
   "cell_type": "code",
   "execution_count": null,
   "id": "cdd32534",
   "metadata": {},
   "outputs": [],
   "source": [
    "# add the geophysical survey data to the map\n",
    "Geophysical_survey_embankment_materials.explore( 'Material',\n",
    "                 m=m, \n",
    "                 marker_type='marker',      \n",
    "                 popup=True, \n",
    "                 legend=True, \n",
    "                 legend_kwds={'caption': 'Material'},\n",
    "                 cmap='Dark2'\n",
    "                )"
   ]
  },
  {
   "cell_type": "code",
   "execution_count": null,
   "id": "f6ab6581",
   "metadata": {},
   "outputs": [],
   "source": [
    "# the interactive map is complete; note that the different legends may overlap spatially but can be moved using the mouse;\n",
    "# now save the map as an html file\n",
    "m.save('Interactive_Humber_flood_embankment_data.html')"
   ]
  }
 ],
 "metadata": {
  "kernelspec": {
   "display_name": "Python 3 (ipykernel)",
   "language": "python",
   "name": "python3"
  },
  "language_info": {
   "codemirror_mode": {
    "name": "ipython",
    "version": 3
   },
   "file_extension": ".py",
   "mimetype": "text/x-python",
   "name": "python",
   "nbconvert_exporter": "python",
   "pygments_lexer": "ipython3",
   "version": "3.11.3"
  }
 },
 "nbformat": 4,
 "nbformat_minor": 5
}
